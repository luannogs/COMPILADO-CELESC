{
 "cells": [
  {
   "cell_type": "code",
   "execution_count": 185,
   "metadata": {},
   "outputs": [
    {
     "name": "stderr",
     "output_type": "stream",
     "text": [
      "C:\\Users\\LuanNogs\\AppData\\Local\\Temp\\ipykernel_8664\\3990114094.py:83: PerformanceWarning: indexing past lexsort depth may impact performance.\n",
      "  inj_usina = injecao_geradores[\"INJEÇÃO TP\"].loc[row.name].values\n"
     ]
    },
    {
     "ename": "ValueError",
     "evalue": "Columns must be same length as key",
     "output_type": "error",
     "traceback": [
      "\u001b[1;31m---------------------------------------------------------------------------\u001b[0m",
      "\u001b[1;31mValueError\u001b[0m                                Traceback (most recent call last)",
      "\u001b[1;32m~\\AppData\\Local\\Temp\\ipykernel_8664\\3990114094.py\u001b[0m in \u001b[0;36m?\u001b[1;34m()\u001b[0m\n\u001b[1;32m--> 139\u001b[1;33m \u001b[1;32mimport\u001b[0m \u001b[0mpandas\u001b[0m\u001b[1;33m\u001b[0m\u001b[1;33m\u001b[0m\u001b[0m\n\u001b[0m\u001b[0;32m    140\u001b[0m \u001b[1;33m\u001b[0m\u001b[0m\n\u001b[0;32m    141\u001b[0m \u001b[1;32mfrom\u001b[0m \u001b[0mdatetime\u001b[0m \u001b[1;32mimport\u001b[0m \u001b[0mdatetime\u001b[0m\u001b[1;33m\u001b[0m\u001b[1;33m\u001b[0m\u001b[0m\n\u001b[0;32m    142\u001b[0m \u001b[1;33m\u001b[0m\u001b[0m\n",
      "\u001b[1;32mc:\\Users\\LuanNogs\\AppData\\Local\\Programs\\Python\\Python38\\lib\\site-packages\\pandas\\core\\frame.py\u001b[0m in \u001b[0;36m?\u001b[1;34m(self, key, value)\u001b[0m\n\u001b[0;32m   3936\u001b[0m             \u001b[0mself\u001b[0m\u001b[1;33m.\u001b[0m\u001b[0m_setitem_frame\u001b[0m\u001b[1;33m(\u001b[0m\u001b[0mkey\u001b[0m\u001b[1;33m,\u001b[0m \u001b[0mvalue\u001b[0m\u001b[1;33m)\u001b[0m\u001b[1;33m\u001b[0m\u001b[1;33m\u001b[0m\u001b[0m\n\u001b[0;32m   3937\u001b[0m         \u001b[1;32melif\u001b[0m \u001b[0misinstance\u001b[0m\u001b[1;33m(\u001b[0m\u001b[0mkey\u001b[0m\u001b[1;33m,\u001b[0m \u001b[1;33m(\u001b[0m\u001b[0mSeries\u001b[0m\u001b[1;33m,\u001b[0m \u001b[0mnp\u001b[0m\u001b[1;33m.\u001b[0m\u001b[0mndarray\u001b[0m\u001b[1;33m,\u001b[0m \u001b[0mlist\u001b[0m\u001b[1;33m,\u001b[0m \u001b[0mIndex\u001b[0m\u001b[1;33m)\u001b[0m\u001b[1;33m)\u001b[0m\u001b[1;33m:\u001b[0m\u001b[1;33m\u001b[0m\u001b[1;33m\u001b[0m\u001b[0m\n\u001b[0;32m   3938\u001b[0m             \u001b[0mself\u001b[0m\u001b[1;33m.\u001b[0m\u001b[0m_setitem_array\u001b[0m\u001b[1;33m(\u001b[0m\u001b[0mkey\u001b[0m\u001b[1;33m,\u001b[0m \u001b[0mvalue\u001b[0m\u001b[1;33m)\u001b[0m\u001b[1;33m\u001b[0m\u001b[1;33m\u001b[0m\u001b[0m\n\u001b[0;32m   3939\u001b[0m         \u001b[1;32melif\u001b[0m \u001b[0misinstance\u001b[0m\u001b[1;33m(\u001b[0m\u001b[0mvalue\u001b[0m\u001b[1;33m,\u001b[0m \u001b[0mDataFrame\u001b[0m\u001b[1;33m)\u001b[0m\u001b[1;33m:\u001b[0m\u001b[1;33m\u001b[0m\u001b[1;33m\u001b[0m\u001b[0m\n\u001b[1;32m-> 3940\u001b[1;33m             \u001b[0mself\u001b[0m\u001b[1;33m.\u001b[0m\u001b[0m_set_item_frame_value\u001b[0m\u001b[1;33m(\u001b[0m\u001b[0mkey\u001b[0m\u001b[1;33m,\u001b[0m \u001b[0mvalue\u001b[0m\u001b[1;33m)\u001b[0m\u001b[1;33m\u001b[0m\u001b[1;33m\u001b[0m\u001b[0m\n\u001b[0m\u001b[0;32m   3941\u001b[0m         elif (\n\u001b[0;32m   3942\u001b[0m             \u001b[0mis_list_like\u001b[0m\u001b[1;33m(\u001b[0m\u001b[0mvalue\u001b[0m\u001b[1;33m)\u001b[0m\u001b[1;33m\u001b[0m\u001b[1;33m\u001b[0m\u001b[0m\n\u001b[0;32m   3943\u001b[0m             \u001b[1;32mand\u001b[0m \u001b[1;32mnot\u001b[0m \u001b[0mself\u001b[0m\u001b[1;33m.\u001b[0m\u001b[0mcolumns\u001b[0m\u001b[1;33m.\u001b[0m\u001b[0mis_unique\u001b[0m\u001b[1;33m\u001b[0m\u001b[1;33m\u001b[0m\u001b[0m\n",
      "\u001b[1;32mc:\\Users\\LuanNogs\\AppData\\Local\\Programs\\Python\\Python38\\lib\\site-packages\\pandas\\core\\frame.py\u001b[0m in \u001b[0;36m?\u001b[1;34m(self, key, value)\u001b[0m\n\u001b[0;32m   4065\u001b[0m             \u001b[0mloc\u001b[0m \u001b[1;33m=\u001b[0m \u001b[0mself\u001b[0m\u001b[1;33m.\u001b[0m\u001b[0mcolumns\u001b[0m\u001b[1;33m.\u001b[0m\u001b[0mget_loc\u001b[0m\u001b[1;33m(\u001b[0m\u001b[0mkey\u001b[0m\u001b[1;33m)\u001b[0m\u001b[1;33m\u001b[0m\u001b[1;33m\u001b[0m\u001b[0m\n\u001b[0;32m   4066\u001b[0m             \u001b[0mcols\u001b[0m \u001b[1;33m=\u001b[0m \u001b[0mself\u001b[0m\u001b[1;33m.\u001b[0m\u001b[0mcolumns\u001b[0m\u001b[1;33m[\u001b[0m\u001b[0mloc\u001b[0m\u001b[1;33m]\u001b[0m\u001b[1;33m\u001b[0m\u001b[1;33m\u001b[0m\u001b[0m\n\u001b[0;32m   4067\u001b[0m             \u001b[0mlen_cols\u001b[0m \u001b[1;33m=\u001b[0m \u001b[1;36m1\u001b[0m \u001b[1;32mif\u001b[0m \u001b[0mis_scalar\u001b[0m\u001b[1;33m(\u001b[0m\u001b[0mcols\u001b[0m\u001b[1;33m)\u001b[0m \u001b[1;32mor\u001b[0m \u001b[0misinstance\u001b[0m\u001b[1;33m(\u001b[0m\u001b[0mcols\u001b[0m\u001b[1;33m,\u001b[0m \u001b[0mtuple\u001b[0m\u001b[1;33m)\u001b[0m \u001b[1;32melse\u001b[0m \u001b[0mlen\u001b[0m\u001b[1;33m(\u001b[0m\u001b[0mcols\u001b[0m\u001b[1;33m)\u001b[0m\u001b[1;33m\u001b[0m\u001b[1;33m\u001b[0m\u001b[0m\n\u001b[0;32m   4068\u001b[0m             \u001b[1;32mif\u001b[0m \u001b[0mlen_cols\u001b[0m \u001b[1;33m!=\u001b[0m \u001b[0mlen\u001b[0m\u001b[1;33m(\u001b[0m\u001b[0mvalue\u001b[0m\u001b[1;33m.\u001b[0m\u001b[0mcolumns\u001b[0m\u001b[1;33m)\u001b[0m\u001b[1;33m:\u001b[0m\u001b[1;33m\u001b[0m\u001b[1;33m\u001b[0m\u001b[0m\n\u001b[1;32m-> 4069\u001b[1;33m                 \u001b[1;32mraise\u001b[0m \u001b[0mValueError\u001b[0m\u001b[1;33m(\u001b[0m\u001b[1;34m\"Columns must be same length as key\"\u001b[0m\u001b[1;33m)\u001b[0m\u001b[1;33m\u001b[0m\u001b[1;33m\u001b[0m\u001b[0m\n\u001b[0m\u001b[0;32m   4070\u001b[0m \u001b[1;33m\u001b[0m\u001b[0m\n\u001b[0;32m   4071\u001b[0m             \u001b[1;31m# align right-hand-side columns if self.columns\u001b[0m\u001b[1;33m\u001b[0m\u001b[1;33m\u001b[0m\u001b[1;33m\u001b[0m\u001b[0m\n\u001b[0;32m   4072\u001b[0m             \u001b[1;31m# is multi-index and self[key] is a sub-frame\u001b[0m\u001b[1;33m\u001b[0m\u001b[1;33m\u001b[0m\u001b[1;33m\u001b[0m\u001b[0m\n",
      "\u001b[1;31mValueError\u001b[0m: Columns must be same length as key"
     ]
    }
   ],
   "source": [
    "import pandas\n",
    "\n",
    "from datetime import datetime\n",
    "\n",
    "from pandas import Timestamp\n",
    "\n",
    "from pandas.tseries.offsets import DateOffset\n",
    "# import zip\n",
    "rateios_celesc = pandas.read_csv(r\"C:\\Users\\LuanNogs\\Documents\\COMPILADO-CELESC\\COMPILADO RATEIOS - CELESC.csv\")\n",
    "\n",
    "rateios_celesc.drop([\"OBSERVAÇÃO\"],axis=1, inplace=True)\n",
    "\n",
    "rateios_celesc['PORCENTAGEM']=rateios_celesc['PORCENTAGEM'].apply(lambda x : float(x.replace(\",\",\".\").replace(\"%\",\"\"))/100)\n",
    "\n",
    "rateios_celesc['BENEFICIÁRIA']=rateios_celesc['BENEFICIÁRIA'].astype(str)\n",
    "\n",
    "rateios_celesc.rename({\"GERADORA\":\"UC\"},axis=1,inplace=True)\n",
    "\n",
    "\n",
    "rateios_celesc['UC']=rateios_celesc['UC'].apply(str)\n",
    "\n",
    "rateios_celesc[\"datetime\"]=rateios_celesc[\"REFERÊNCIA\"].apply(lambda x : datetime.strptime(x,\"%d/%m/%Y\"))\n",
    "\n",
    "injecao_geradores = pandas.read_csv(r\"C:\\Users\\LuanNogs\\Documents\\COMPILADO-CELESC\\Faturas PLIN - CELESC.csv\")\n",
    "\n",
    "injecao_geradores.rename({\"ucGeradora\":\"UC\",\"referencia\":\"REFERÊNCIA\"},axis=1,inplace=True)\n",
    "\n",
    "columns_maintain = [\"UC\", \"REFERÊNCIA\", \"INJEÇÃO TP\"]\n",
    "\n",
    "injecao_geradores = injecao_geradores[columns_maintain]\n",
    "\n",
    "injecao_geradores[\"INJEÇÃO TP\"]=injecao_geradores[\"INJEÇÃO TP\"].apply(lambda x : float(x)) \n",
    "\n",
    "injecao_geradores[\"UC\"]=injecao_geradores[\"UC\"].apply(str) \n",
    "\n",
    "injecao_geradores[\"datetime\"]=injecao_geradores[\"REFERÊNCIA\"].apply(lambda x : datetime.strptime(x,\"%d/%m/%Y\"))\n",
    "\n",
    "leituras_celesc = pandas.read_csv(r\"C:\\Users\\LuanNogs\\Documents\\COMPILADO-CELESC\\LEITURAS__Geradorasdeenergia_CELESC_Conta Corrente_Ativo_Erro de leitura_Vencidas_05-08-2024.csv\")\n",
    "\n",
    "leituras_celesc=leituras_celesc.rename({\"uc\":\"UC\",\"date_ref\":\"REFERÊNCIA\",\"kwh_compensado\":\"COMPENSADO\",\"kwh_consumed\":\"CONSUMIDO\"},axis=1)\n",
    "\n",
    "leituras_celesc[\"COMPENSADO\"]=leituras_celesc[\"COMPENSADO\"].apply(lambda x : float(abs(float(x))))\n",
    "\n",
    "leituras_celesc.rename({\"UC\":\"BENEFICIÁRIA\"},axis = 1 ,inplace=True)\n",
    "\n",
    "columns_maintain=[\"BENEFICIÁRIA\",\"REFERÊNCIA\",\"COMPENSADO\",\"CONSUMIDO\"]\n",
    "\n",
    "# TRATAMENTO DE DADOS LEITURAS\n",
    "\n",
    "leituras_celesc=leituras_celesc[columns_maintain]\n",
    "\n",
    "leituras_celesc.rename({\"UC\":\"BENEFICIÁRIA\"},inplace=True)\n",
    "\n",
    "leituras_celesc[\"BENEFICIÁRIA\"]=leituras_celesc[\"BENEFICIÁRIA\"].apply(str)\n",
    "\n",
    "leituras_celesc[\"REFERÊNCIA\"]=leituras_celesc[\"REFERÊNCIA\"].apply(lambda x: \"01/\"+x)\n",
    "\n",
    "leituras_celesc[\"datetime\"]=leituras_celesc[\"REFERÊNCIA\"].apply(lambda x : datetime.strptime(x,\"%d/%m/%Y\"))\n",
    "\n",
    "rateios_celesc=rateios_celesc.set_index([\"UC\",\"datetime\",\"REFERÊNCIA\"])\n",
    "\n",
    "injecao_geradores=injecao_geradores.set_index([\"UC\",\"datetime\",\"REFERÊNCIA\"])\n",
    "\n",
    "leituras_celesc = leituras_celesc.drop_duplicates([\"BENEFICIÁRIA\",\"REFERÊNCIA\"])\n",
    "\n",
    "leituras_celesc.set_index(['BENEFICIÁRIA',\"datetime\",\"REFERÊNCIA\"],inplace=True)\n",
    "\n",
    "# CRIAÇÃO DE LEITURAS\n",
    "\n",
    "missing_idx = rateios_celesc.reset_index().set_index([\"BENEFICIÁRIA\",\"datetime\",\"REFERÊNCIA\"]).index.difference(leituras_celesc.index)\n",
    "\n",
    "# Criar um DataFrame com os índices faltantes e preenchê-los com NaN ou um valor padrão\n",
    "missing_rows = pandas.DataFrame(index=missing_idx, columns=leituras_celesc.columns)\n",
    "\n",
    "missing_rows['COMPENSADO'] = 0  # ou algum valor padrão, como 0\n",
    "\n",
    "# Adicionar as linhas faltantes ao df2\n",
    "leituras_celesc = pandas.concat([leituras_celesc, missing_rows])\n",
    "\n",
    "\n",
    "def injecao_cliente_usina(row):\n",
    "    try:\n",
    "        inj_usina = injecao_geradores[\"INJEÇÃO TP\"].loc[row.name].values\n",
    "        inj_cliente_usina = inj_usina * row[\"PORCENTAGEM\"]\n",
    "        return float(format(inj_cliente_usina[0],\".0f\"))\n",
    "    \n",
    "    except:\n",
    "        return 0\n",
    "    \n",
    "rateios_celesc[\"INJ_CLIENTE_USINA\"] = rateios_celesc.apply(injecao_cliente_usina,axis=1)\n",
    "\n",
    "rateios_celesc.sort_index()\n",
    "\n",
    "leituras_celesc.sort_index()\n",
    "\n",
    "injecao_geradores.sort_index()\n",
    "\n",
    "\n",
    "def dict_leitura (row:pandas.Series):\n",
    "    # print(row.name)\n",
    "    try:\n",
    "        usinas_dict = rateios_celesc.query(\"BENEFICIÁRIA  == '{uc}' & REFERÊNCIA == '{ref}'\".format(uc=row.name[0],ref = row.name[2]))[\"INJ_CLIENTE_USINA\"].droplevel('REFERÊNCIA').to_dict()\n",
    "        return usinas_dict\n",
    "    except: \n",
    "        # new_row = pandas.DataFrame({(row.name[0],row.name[1]-DateOffset(months=1),datetime.strftime(datetime.strptime(row.name[2],\"%d/%m/%Y\")-DateOffset(months=1),\"%d/%m/%Y\")):[0]})\n",
    "        return 0    \n",
    "\n",
    "leituras_celesc[\"INJEÇÃO_USINAS\"] = leituras_celesc.apply(dict_leitura,axis=1)\n",
    "\n",
    "def inj_total (row): \n",
    "\n",
    "    return sum(row[2].values())\n",
    "\n",
    "leituras_celesc[\"INJ_TOTAL\"] = leituras_celesc.apply(inj_total,axis=1)\n",
    "\n",
    "leituras_celesc=leituras_celesc.drop([\"CONSUMIDO\"],axis=1)\n",
    "\n",
    "leituras_celesc=leituras_celesc.sort_index(axis=0,level='datetime',ascending=True)\n",
    "\n",
    "leituras_celesc.insert(3,column='SALDO USINAS',value=0)\n",
    "\n",
    "leituras_celesc.insert(3,column='SALDO TOTAL',value=0)\n",
    "\n",
    "leituras_celesc.insert(3,column='COMPENSADO USINAS',value=0)\n",
    "\n",
    "# def saldo_anterior_total(row):\n",
    "\n",
    "#     try:\n",
    "#         saldo_anterior = leituras_celesc.query(\"BENEFICIÁRIA == '{uc}' & REFERÊNCIA == '{ref}'\".format(uc=row.name[0],ref=datetime.strftime(row.name[1]-DateOffset(months=1),\"%d/%m/%Y\")))['SALDO TOTAL']\n",
    "#     except: \n",
    "#         saldo_anterior=0\n",
    "    \n",
    "#     saldo_total = saldo_anterior + row[2] - row[0]\n",
    "\n",
    "\n",
    "#     return saldo_total\n",
    "\n",
    "\n",
    "# leituras_celesc[\"SALDO TOTAL\"]=leituras_celesc.apply(saldo_anterior_total,axis=1)\n",
    "\n",
    "\n",
    "    \n"
   ]
  },
  {
   "cell_type": "code",
   "execution_count": 141,
   "metadata": {},
   "outputs": [],
   "source": [
    "def saldo_anterior_total(row):\n",
    "\n",
    "    saldo_anterior = leituras_celesc.query(\"BENEFICIÁRIA == '{uc}' & REFERÊNCIA == '{ref}'\".format(uc=row.name[0],ref=datetime.strftime(row.name[1]-DateOffset(months=1),\"%d-m-%Y\")))[0]\n",
    "  \n",
    "    saldo_total = saldo_anterior + row[2] - row[0]\n",
    "\n",
    "    return saldo_total\n"
   ]
  },
  {
   "cell_type": "code",
   "execution_count": 183,
   "metadata": {},
   "outputs": [
    {
     "data": {
      "text/plain": [
       "0.0"
      ]
     },
     "execution_count": 183,
     "metadata": {},
     "output_type": "execute_result"
    }
   ],
   "source": [
    "leituras_celesc.iloc[15][0]"
   ]
  },
  {
   "cell_type": "code",
   "execution_count": 181,
   "metadata": {},
   "outputs": [
    {
     "data": {
      "text/plain": [
       "0"
      ]
     },
     "execution_count": 181,
     "metadata": {},
     "output_type": "execute_result"
    }
   ],
   "source": [
    "leituras_celesc.query(\"BENEFICIÁRIA == '{uc}' & REFERÊNCIA == '{ref}'\".format(uc=leituras_celesc.iloc[50].name[0],ref=datetime.strftime(leituras_celesc.iloc[50].name[1]-DateOffset(months=1),format=\"%d/%m/%Y\")))[\"SALDO TOTAL\"][0]"
   ]
  }
 ],
 "metadata": {
  "kernelspec": {
   "display_name": "Python 3",
   "language": "python",
   "name": "python3"
  },
  "language_info": {
   "codemirror_mode": {
    "name": "ipython",
    "version": 3
   },
   "file_extension": ".py",
   "mimetype": "text/x-python",
   "name": "python",
   "nbconvert_exporter": "python",
   "pygments_lexer": "ipython3",
   "version": "3.8.10"
  }
 },
 "nbformat": 4,
 "nbformat_minor": 2
}
